{
 "cells": [
  {
   "cell_type": "code",
   "execution_count": 38,
   "metadata": {},
   "outputs": [],
   "source": [
    "import random"
   ]
  },
  {
   "cell_type": "code",
   "execution_count": 39,
   "metadata": {},
   "outputs": [],
   "source": [
    "dictionary_1 = {\n",
    "    \"а\": [\"🍉\", \"🍍\", \"🥑\"],\n",
    "    \"б\": [\"🍌\", \"🥁\"],\n",
    "    \"в\": [\"🍇\", \"🚴\"],\n",
    "    \"г\": [\"🍐\", \"🍄\", \"👄\"],\n",
    "    \"д\": [\"🏠\", \"🦖\", \"🧬\", \"😈\", \"🐬\"],\n",
    "    \"е\": [\"🦄\", \"🌲\"],\n",
    "    \"ё\": [\"🦔\", ],\n",
    "    \"ж\": [\"💛\", ],\n",
    "    \"з\": [\"⭐\", \"💫\", \"🔒\", \"🦷\", \"🌂\"],\n",
    "    \"и\": [\"🦆☯\", \"👽\"],\n",
    "    \"й\": [\"🧘\", ],\n",
    "    \"к\": [\"🍓\", \"🐋\", \"🐈\", \"🌵\"],\n",
    "    \"л\": [\"🥄\", \"🍋\", \"🍁\"],\n",
    "    \"м\": [\"🐻\", \"🧠\", \"⚡\", \"⚽\", \"🗡\", \"🍦\"],\n",
    "    \"н\": [\"🔪\", \"🎵\"],\n",
    "    \"о\": [\"🥒\", \"🦅\", \"🐙\"],\n",
    "    \"п\": [\"🍑\", \"🍕\", \"🔫\", \"👻\", \"🐼\"],\n",
    "    \"р\": [\"🌈\", \"🚀\", \"🤖\", \"🐠\"],\n",
    "    \"с\": [\"🧀\", \"🦉\", \"💯\"],\n",
    "    \"т\": [\"☎️\", ],\n",
    "    \"у\": [\"🦆\", \"🌪\"],\n",
    "    \"ф\": [\"📷\", ],\n",
    "    \"х\": [\"🥖\", \"🎃\"],\n",
    "    \"ц\": [\"🌼\", \"🐤\"],\n",
    "    \"ч\": [\"💀\", ],\n",
    "    \"ш\": [\"🍫\", \"🍾\", \"🎩\", \"🎈\"],\n",
    "    \"щ\": [\"🛡️\"],\n",
    "    \"ъ\": [\"ъ\"],\n",
    "    \"ы\": [\"ы\"],\n",
    "    \"ь\": [\"ь\"],\n",
    "    \"э\": [\"💏\"],\n",
    "    \"ю\": [\"👗\"],\n",
    "    \"я\": [\"🍏\", \"🍳\", \"👅\"],\n",
    "    \" \": \"  \"\n",
    "}"
   ]
  },
  {
   "cell_type": "code",
   "execution_count": 40,
   "metadata": {},
   "outputs": [],
   "source": [
    "dictionary_2 = {\n",
    "    \"а\": [\"🍉\", \"🍍\", \"🥑\"],\n",
    "    \"б\": [\"🍌\", \"🥁\"],\n",
    "    \"в\": [\"🍇\", \"🚴\"],\n",
    "    \"г\": [\"🍐\", \"🍄\", \"👄\"],\n",
    "    \"д\": [\"🏠\", \"🦖\", ],\n",
    "    \"е\": [\"🦄\", \"🌲\"],\n",
    "    \"ё\": [\"🦔\", ],\n",
    "    \"ж\": [\"💛\", ],\n",
    "    \"з\": [\"⭐\", \"💫\", \"🔒\", \"🦷\"],\n",
    "    \"и\": [\"☯\", \"👽\"],\n",
    "    \"й\": [\"🧘\", ],\n",
    "    \"к\": [\"🍓\", \"🐋\", \"🐈\"],\n",
    "    \"л\": [\"🥄\", \"🍋\"],\n",
    "    \"м\": [\"🐻\", \"🧠\", \"⚡\", \"⚽\"],\n",
    "    \"н\": [\"🔪\", \"🎵\"],\n",
    "    \"о\": [\"🥒\", \"🦅\"],\n",
    "    \"п\": [\"🍑\", \"🍕\", \"🔫\", \"👻\"],\n",
    "    \"р\": [\"🌈\", \"🚀\", \"🤖\"],\n",
    "    \"с\": [\"🧀\", \"🦉\"],\n",
    "    \"т\": [\"☎️\", \"🍰\", \"👠\"],\n",
    "    \"у\": [\"🦆\", ],\n",
    "    \"ф\": [\"📷\", ],\n",
    "    \"х\": [\"🥖\", ],\n",
    "    \"ц\": [\"🌼\", \"🐤\", \"🎪\"],\n",
    "    \"ч\": [\"💀\", \"🕐\"],\n",
    "    \"ш\": [\"🍫\", \"🍾\", \"🎩\", \"🎈\"],\n",
    "    \"щ\": [\"🛡️\"],\n",
    "    \"ъ\": [\"ъ\"],\n",
    "    \"ы\": [\"ы\"],\n",
    "    \"ь\": [\"ь\"],\n",
    "    \"э\": [\"💏\"],\n",
    "    \"ю\": [\"👗\"],\n",
    "    \"я\": [\"🍏\", \"🍳\", \"👅\", \"⚓\"],\n",
    "    \" \": \"  \"\n",
    "}"
   ]
  },
  {
   "cell_type": "code",
   "execution_count": 41,
   "metadata": {},
   "outputs": [
    {
     "name": "stdout",
     "output_type": "stream",
     "text": [
      "🍉 🧘 💫 🍍 !    🍰 ы    🔫 🌈 🌲 🐋 🤖 🍉 🦉 🎵 🍉 👅    🏠 🦄 🍇 🦆 🎩 🐋 🍍    ☯    🔒 🥑 🐻 🦄 🕐 🍍 ☎️ 🌲 🍋 ь 🔪 ы 🧘    🕐 🦄 🍋 🥒 🍇 🦄 🐈 .    🦅 🧀 ☎️ 🍍 🍇 🥑 🧘 🧀 ⚓    🍰 🥑 🍓 🥒 🧘    💛 🦄    🐻 ☯ 🍋 🦅 🧘    👽    🍇 🦖 🦅 🥖 🔪 🦅 🚴 🥄 🍳 👗 🛡️ 🌲 🧘 !\n"
     ]
    }
   ],
   "source": [
    "message = \"Айза! Ты прекрасная девушка и замечательный человек. Оставайся такой же милой и вдохновляющей!\"\n",
    "\n",
    "message = message.lower()\n",
    "transformed_lst = []\n",
    "for i in message:\n",
    "    to_add = \"\"\n",
    "    if i in dictionary.keys():\n",
    "        if isinstance(dictionary_1[i], list):\n",
    "            to_add = random.choice(dictionary[i])\n",
    "        else:\n",
    "            to_add = dictionary[i]\n",
    "    else:\n",
    "        to_add = i\n",
    "    transformed_lst.append(to_add)\n",
    "    \n",
    "final_str = \" \".join(transformed_lst)\n",
    "print(final_str)"
   ]
  },
  {
   "cell_type": "code",
   "execution_count": 48,
   "metadata": {},
   "outputs": [
    {
     "name": "stdout",
     "output_type": "stream",
     "text": [
      "🍉 🍍 🥑 🍌 🥁 🍇 🚴 🍐 🍄 👄 🏠 🦖 🧬 😈 🐬 🦄 🌲 🦔 💛 ⭐ 💫 🔒 🦷 🌂 🦆☯ 👽 🧘 🍓 🐋 🐈 🌵 🥄 🍋 🍁 🐻 🧠 ⚡ ⚽ 🗡 🍦 🔪 🎵 🥒 🦅 🐙 🍑 🍕 🔫 👻 🐼 🌈 🚀 🤖 🐠 🧀 🦉 💯 ☎️ 🦆 🌪 📷 🥖 🎃 🌼 🐤 💀 🍫 🍾 🎩 🎈 🛡️ ъ ы ь 💏 👗 🍏 🍳 👅     "
     ]
    }
   ],
   "source": [
    "for i in dictionary_1.values():\n",
    "    for j in i:\n",
    "        print(j, end = \" \")"
   ]
  },
  {
   "cell_type": "code",
   "execution_count": null,
   "metadata": {},
   "outputs": [],
   "source": []
  },
  {
   "cell_type": "code",
   "execution_count": null,
   "metadata": {},
   "outputs": [],
   "source": []
  },
  {
   "cell_type": "code",
   "execution_count": null,
   "metadata": {},
   "outputs": [],
   "source": []
  },
  {
   "cell_type": "code",
   "execution_count": null,
   "metadata": {},
   "outputs": [],
   "source": []
  },
  {
   "cell_type": "code",
   "execution_count": null,
   "metadata": {},
   "outputs": [],
   "source": []
  }
 ],
 "metadata": {
  "kernelspec": {
   "display_name": "Python 3",
   "language": "python",
   "name": "python3"
  },
  "language_info": {
   "codemirror_mode": {
    "name": "ipython",
    "version": 3
   },
   "file_extension": ".py",
   "mimetype": "text/x-python",
   "name": "python",
   "nbconvert_exporter": "python",
   "pygments_lexer": "ipython3",
   "version": "3.7.5"
  }
 },
 "nbformat": 4,
 "nbformat_minor": 2
}
